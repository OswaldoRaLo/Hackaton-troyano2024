{
 "cells": [
  {
   "cell_type": "code",
   "execution_count": 2,
   "metadata": {},
   "outputs": [
    {
     "name": "stdout",
     "output_type": "stream",
     "text": [
      "Distancia entre Nueva York y Londres: 5570.222179737958 kilómetros\n"
     ]
    }
   ],
   "source": [
    "import math\n",
    "\n",
    "def haversine(lat1, lon1, lat2, lon2):\n",
    "    R = 6371  # Radio de la Tierra en kilómetros\n",
    "    dlat = math.radians(lat2 - lat1)\n",
    "    dlon = math.radians(lon2 - lon1)\n",
    "    a = math.sin(dlat / 2) * math.sin(dlat / 2) + \\\n",
    "        math.cos(math.radians(lat1)) * math.cos(math.radians(lat2)) * \\\n",
    "        math.sin(dlon / 2) * math.sin(dlon / 2)\n",
    "    c = 2 * math.atan2(math.sqrt(a), math.sqrt(1 - a))\n",
    "    d = R * c\n",
    "    return d\n",
    "\n",
    "# Coordenadas de los puertos\n",
    "lat1, lon1 = 40.7128, -74.0060  # Coordenadas de Nueva York\n",
    "lat2, lon2 = 51.5074, -0.1278    # Coordenadas de Londres\n",
    "\n",
    "# Calcular la distancia\n",
    "distance = haversine(lat1, lon1, lat2, lon2)\n",
    "print(\"Distancia entre Nueva York y Londres:\", distance, \"kilómetros\")\n",
    "x = distance\n"
   ]
  },
  {
   "cell_type": "code",
   "execution_count": 2,
   "metadata": {},
   "outputs": [
    {
     "ename": "NameError",
     "evalue": "name 'R' is not defined",
     "output_type": "error",
     "traceback": [
      "\u001b[1;31m---------------------------------------------------------------------------\u001b[0m",
      "\u001b[1;31mNameError\u001b[0m                                 Traceback (most recent call last)",
      "Cell \u001b[1;32mIn[2], line 36\u001b[0m\n\u001b[0;32m     33\u001b[0m num_points \u001b[38;5;241m=\u001b[39m \u001b[38;5;241m100\u001b[39m\n\u001b[0;32m     35\u001b[0m \u001b[38;5;66;03m# Calcular los puntos intermedios\u001b[39;00m\n\u001b[1;32m---> 36\u001b[0m points \u001b[38;5;241m=\u001b[39m \u001b[43mintermediate_points\u001b[49m\u001b[43m(\u001b[49m\u001b[43mlat1\u001b[49m\u001b[43m,\u001b[49m\u001b[43m \u001b[49m\u001b[43mlon1\u001b[49m\u001b[43m,\u001b[49m\u001b[43m \u001b[49m\u001b[43mlat2\u001b[49m\u001b[43m,\u001b[49m\u001b[43m \u001b[49m\u001b[43mlon2\u001b[49m\u001b[43m,\u001b[49m\u001b[43m \u001b[49m\u001b[43mnum_points\u001b[49m\u001b[43m)\u001b[49m\n\u001b[0;32m     38\u001b[0m \u001b[38;5;66;03m# Crear un DataFrame con los puntos intermedios\u001b[39;00m\n\u001b[0;32m     39\u001b[0m df \u001b[38;5;241m=\u001b[39m pd\u001b[38;5;241m.\u001b[39mDataFrame(points, columns\u001b[38;5;241m=\u001b[39m[\u001b[38;5;124m\"\u001b[39m\u001b[38;5;124mLatitud\u001b[39m\u001b[38;5;124m\"\u001b[39m, \u001b[38;5;124m\"\u001b[39m\u001b[38;5;124mLongitud\u001b[39m\u001b[38;5;124m\"\u001b[39m])\n",
      "Cell \u001b[1;32mIn[2], line 23\u001b[0m, in \u001b[0;36mintermediate_points\u001b[1;34m(lat1, lon1, lat2, lon2, num_points)\u001b[0m\n\u001b[0;32m     21\u001b[0m f \u001b[38;5;241m=\u001b[39m i \u001b[38;5;241m/\u001b[39m num_points\n\u001b[0;32m     22\u001b[0m d \u001b[38;5;241m=\u001b[39m i \u001b[38;5;241m*\u001b[39m segment_distance\n\u001b[1;32m---> 23\u001b[0m lat \u001b[38;5;241m=\u001b[39m lat1 \u001b[38;5;241m+\u001b[39m (d \u001b[38;5;241m/\u001b[39m \u001b[43mR\u001b[49m) \u001b[38;5;241m*\u001b[39m cos(azimuth)\n\u001b[0;32m     24\u001b[0m lon \u001b[38;5;241m=\u001b[39m lon1 \u001b[38;5;241m+\u001b[39m (d \u001b[38;5;241m/\u001b[39m R) \u001b[38;5;241m*\u001b[39m sin(azimuth) \u001b[38;5;241m/\u001b[39m cos(lat)\n\u001b[0;32m     25\u001b[0m intermediate_points\u001b[38;5;241m.\u001b[39mappend((lat, lon))\n",
      "\u001b[1;31mNameError\u001b[0m: name 'R' is not defined"
     ]
    }
   ],
   "source": [
    "import numpy as np\n",
    "import pandas as pd\n",
    "import plotly.express as px\n",
    "from math import radians, sin, cos, sqrt, atan2\n",
    "\n",
    "def haversine(lat1, lon1, lat2, lon2):\n",
    "    R = 6371.0  # Radio de la Tierra en kilómetros\n",
    "    dlat = radians(lat2 - lat1)\n",
    "    dlon = radians(lon2 - lon1)\n",
    "    a = sin(dlat / 2) ** 2 + cos(radians(lat1)) * cos(radians(lat2)) * sin(dlon / 2) ** 2\n",
    "    c = 2 * atan2(sqrt(a), sqrt(1 - a))\n",
    "    distance = R * c\n",
    "    return distance\n",
    "\n",
    "def intermediate_points(lat1, lon1, lat2, lon2, num_points):\n",
    "    R = 6371.0  # Radio de la Tierra en kilómetros\n",
    "    distance = haversine(lat1, lon1, lat2, lon2)\n",
    "    segment_distance = distance / num_points\n",
    "    azimuth = atan2(lon2 - lon1, lat2 - lat1)\n",
    "    intermediate_points = []\n",
    "    for i in range(num_points + 1):\n",
    "        f = i / num_points\n",
    "        d = i * segment_distance\n",
    "        lat = lat1 + (d / R) * cos(azimuth)\n",
    "        lon = lon1 + (d / R) * sin(azimuth) / cos(lat)\n",
    "        intermediate_points.append((lat, lon))\n",
    "    return intermediate_points\n",
    "\n",
    "# Coordenadas de los puntos de origen y destino\n",
    "lat1, lon1 = 40.7128, -74.0060  # Nueva York\n",
    "lat2, lon2 = 51.5074, -0.1278    # Londres\n",
    "\n",
    "# Número de puntos intermedios\n",
    "num_points = 100\n",
    "\n",
    "# Calcular los puntos intermedios\n",
    "points = intermediate_points(lat1, lon1, lat2, lon2, num_points)\n",
    "\n",
    "# Crear un DataFrame con los puntos intermedios\n",
    "df = pd.DataFrame(points, columns=[\"Latitud\", \"Longitud\"])\n",
    "\n",
    "# Graficar los puntos en un mapa\n",
    "fig = px.line_mapbox(df, lat=\"Latitud\", lon=\"Longitud\", zoom=1)\n",
    "fig.update_layout(mapbox_style=\"open-street-map\")\n",
    "fig.show()\n"
   ]
  },
  {
   "cell_type": "code",
   "execution_count": 20,
   "metadata": {},
   "outputs": [],
   "source": [
    "import pandas as pd\n",
    "import plotly.graph_objects as go\n",
    "import math\n",
    "import webview\n",
    "\n",
    "def haversine(lat1, lon1, lat2, lon2):\n",
    "    R = 6371  # Radio de la Tierra en kilómetros\n",
    "    dlat = math.radians(lat2 - lat1)\n",
    "    dlon = math.radians(lon2 - lon1)\n",
    "    a = math.sin(dlat / 2) * math.sin(dlat / 2) + \\\n",
    "        math.cos(math.radians(lat1)) * math.cos(math.radians(lat2)) * \\\n",
    "        math.sin(dlon / 2) * math.sin(dlon / 2)\n",
    "    c = 2 * math.atan2(math.sqrt(a), math.sqrt(1 - a))\n",
    "    d = R * c\n",
    "    return d\n",
    "\n",
    "# Coordenadas de los puertos\n",
    "lat1, lon1 = 40.7128, -74.0060  # Coordenadas de Nueva York\n",
    "lat2, lon2 = 51.5074, -0.1278    # Coordenadas de Londres\n",
    "\n",
    "# Calcular la distancia\n",
    "distance = haversine(lat1, lon1, lat2, lon2)\n",
    "\n",
    "# Crear un DataFrame de Pandas con las coordenadas y la distancia\n",
    "data = {'Latitud': [lat1, lat2], 'Longitud': [lon1, lon2], 'Distancia': [0, distance]}\n",
    "df = pd.DataFrame(data)\n",
    "\n",
    "# Crear una figura de Plotly\n",
    "fig = go.Figure()\n",
    "\n",
    "# Añadir puntos al mapa tridimensional\n",
    "fig.add_trace(go.Scatter3d(\n",
    "    x=df['Latitud'],\n",
    "    y=df['Longitud'],\n",
    "    z=df['Distancia'],\n",
    "    mode='markers',\n",
    "    marker=dict(size=12, color='red'),\n",
    "    text=['Nueva York', 'Londres'],\n",
    "    name='Puertos Marítimos'\n",
    "))\n",
    "\n",
    "# Añadir líneas conectando los puntos\n",
    "fig.add_trace(go.Scatter3d(\n",
    "    x=df['Latitud'],\n",
    "    y=df['Longitud'],\n",
    "    z=df['Distancia'],\n",
    "    mode='lines',\n",
    "    line=dict(color='blue', width=3),\n",
    "    name='Distancia'\n",
    "))\n",
    "\n",
    "# Configurar el diseño del gráfico\n",
    "fig.update_layout(scene=dict(\n",
    "    xaxis_title='Latitud',\n",
    "    yaxis_title='Longitud',\n",
    "    zaxis_title='Distancia (km)'),\n",
    "    margin=dict(l=0, r=0, b=0, t=0))\n",
    "\n",
    "# Guardar la figura en un archivo HTML\n",
    "html_content = fig.to_html(include_plotlyjs='cdn')\n",
    "\n",
    "# Mostrar la figura en una ventana emergente\n",
    "webview.create_window('Puertos Marítimos', html=html_content)\n",
    "webview.start()\n"
   ]
  },
  {
   "cell_type": "code",
   "execution_count": 26,
   "metadata": {},
   "outputs": [
    {
     "ename": "ValueError",
     "evalue": "Mime type rendering requires nbformat>=4.2.0 but it is not installed",
     "output_type": "error",
     "traceback": [
      "\u001b[1;31m---------------------------------------------------------------------------\u001b[0m",
      "\u001b[1;31mValueError\u001b[0m                                Traceback (most recent call last)",
      "Cell \u001b[1;32mIn[26], line 13\u001b[0m\n\u001b[0;32m      4\u001b[0m fig\u001b[38;5;241m.\u001b[39mupdate_geos(\n\u001b[0;32m      5\u001b[0m     resolution\u001b[38;5;241m=\u001b[39m\u001b[38;5;241m50\u001b[39m,\n\u001b[0;32m      6\u001b[0m     showcoastlines\u001b[38;5;241m=\u001b[39m\u001b[38;5;28;01mTrue\u001b[39;00m, coastlinecolor\u001b[38;5;241m=\u001b[39m\u001b[38;5;124m\"\u001b[39m\u001b[38;5;124mRebeccaPurple\u001b[39m\u001b[38;5;124m\"\u001b[39m,\n\u001b[1;32m   (...)\u001b[0m\n\u001b[0;32m     10\u001b[0m     showrivers\u001b[38;5;241m=\u001b[39m\u001b[38;5;28;01mTrue\u001b[39;00m, rivercolor\u001b[38;5;241m=\u001b[39m\u001b[38;5;124m\"\u001b[39m\u001b[38;5;124mBlue\u001b[39m\u001b[38;5;124m\"\u001b[39m\n\u001b[0;32m     11\u001b[0m )\n\u001b[0;32m     12\u001b[0m fig\u001b[38;5;241m.\u001b[39mupdate_layout(height\u001b[38;5;241m=\u001b[39m\u001b[38;5;241m300\u001b[39m, margin\u001b[38;5;241m=\u001b[39m{\u001b[38;5;124m\"\u001b[39m\u001b[38;5;124mr\u001b[39m\u001b[38;5;124m\"\u001b[39m:\u001b[38;5;241m0\u001b[39m,\u001b[38;5;124m\"\u001b[39m\u001b[38;5;124mt\u001b[39m\u001b[38;5;124m\"\u001b[39m:\u001b[38;5;241m0\u001b[39m,\u001b[38;5;124m\"\u001b[39m\u001b[38;5;124ml\u001b[39m\u001b[38;5;124m\"\u001b[39m:\u001b[38;5;241m0\u001b[39m,\u001b[38;5;124m\"\u001b[39m\u001b[38;5;124mb\u001b[39m\u001b[38;5;124m\"\u001b[39m:\u001b[38;5;241m0\u001b[39m})\n\u001b[1;32m---> 13\u001b[0m \u001b[43mfig\u001b[49m\u001b[38;5;241;43m.\u001b[39;49m\u001b[43mshow\u001b[49m\u001b[43m(\u001b[49m\u001b[43m)\u001b[49m\n",
      "File \u001b[1;32mc:\\Users\\maria\\miniconda3\\envs\\TS2024\\lib\\site-packages\\plotly\\basedatatypes.py:3410\u001b[0m, in \u001b[0;36mBaseFigure.show\u001b[1;34m(self, *args, **kwargs)\u001b[0m\n\u001b[0;32m   3377\u001b[0m \u001b[38;5;250m\u001b[39m\u001b[38;5;124;03m\"\"\"\u001b[39;00m\n\u001b[0;32m   3378\u001b[0m \u001b[38;5;124;03mShow a figure using either the default renderer(s) or the renderer(s)\u001b[39;00m\n\u001b[0;32m   3379\u001b[0m \u001b[38;5;124;03mspecified by the renderer argument\u001b[39;00m\n\u001b[1;32m   (...)\u001b[0m\n\u001b[0;32m   3406\u001b[0m \u001b[38;5;124;03mNone\u001b[39;00m\n\u001b[0;32m   3407\u001b[0m \u001b[38;5;124;03m\"\"\"\u001b[39;00m\n\u001b[0;32m   3408\u001b[0m \u001b[38;5;28;01mimport\u001b[39;00m \u001b[38;5;21;01mplotly\u001b[39;00m\u001b[38;5;21;01m.\u001b[39;00m\u001b[38;5;21;01mio\u001b[39;00m \u001b[38;5;28;01mas\u001b[39;00m \u001b[38;5;21;01mpio\u001b[39;00m\n\u001b[1;32m-> 3410\u001b[0m \u001b[38;5;28;01mreturn\u001b[39;00m pio\u001b[38;5;241m.\u001b[39mshow(\u001b[38;5;28mself\u001b[39m, \u001b[38;5;241m*\u001b[39margs, \u001b[38;5;241m*\u001b[39m\u001b[38;5;241m*\u001b[39mkwargs)\n",
      "File \u001b[1;32mc:\\Users\\maria\\miniconda3\\envs\\TS2024\\lib\\site-packages\\plotly\\io\\_renderers.py:394\u001b[0m, in \u001b[0;36mshow\u001b[1;34m(fig, renderer, validate, **kwargs)\u001b[0m\n\u001b[0;32m    389\u001b[0m         \u001b[38;5;28;01mraise\u001b[39;00m \u001b[38;5;167;01mValueError\u001b[39;00m(\n\u001b[0;32m    390\u001b[0m             \u001b[38;5;124m\"\u001b[39m\u001b[38;5;124mMime type rendering requires ipython but it is not installed\u001b[39m\u001b[38;5;124m\"\u001b[39m\n\u001b[0;32m    391\u001b[0m         )\n\u001b[0;32m    393\u001b[0m     \u001b[38;5;28;01mif\u001b[39;00m \u001b[38;5;129;01mnot\u001b[39;00m nbformat \u001b[38;5;129;01mor\u001b[39;00m Version(nbformat\u001b[38;5;241m.\u001b[39m__version__) \u001b[38;5;241m<\u001b[39m Version(\u001b[38;5;124m\"\u001b[39m\u001b[38;5;124m4.2.0\u001b[39m\u001b[38;5;124m\"\u001b[39m):\n\u001b[1;32m--> 394\u001b[0m         \u001b[38;5;28;01mraise\u001b[39;00m \u001b[38;5;167;01mValueError\u001b[39;00m(\n\u001b[0;32m    395\u001b[0m             \u001b[38;5;124m\"\u001b[39m\u001b[38;5;124mMime type rendering requires nbformat>=4.2.0 but it is not installed\u001b[39m\u001b[38;5;124m\"\u001b[39m\n\u001b[0;32m    396\u001b[0m         )\n\u001b[0;32m    398\u001b[0m     ipython_display\u001b[38;5;241m.\u001b[39mdisplay(bundle, raw\u001b[38;5;241m=\u001b[39m\u001b[38;5;28;01mTrue\u001b[39;00m)\n\u001b[0;32m    400\u001b[0m \u001b[38;5;66;03m# external renderers\u001b[39;00m\n",
      "\u001b[1;31mValueError\u001b[0m: Mime type rendering requires nbformat>=4.2.0 but it is not installed"
     ]
    }
   ],
   "source": [
    "import plotly.graph_objects as go\n",
    "\n",
    "fig = go.Figure(go.Scattergeo())\n",
    "fig.update_geos(\n",
    "    resolution=50,\n",
    "    showcoastlines=True, coastlinecolor=\"RebeccaPurple\",\n",
    "    showland=True, landcolor=\"LightGreen\",\n",
    "    showocean=True, oceancolor=\"LightBlue\",\n",
    "    showlakes=True, lakecolor=\"Blue\",\n",
    "    showrivers=True, rivercolor=\"Blue\"\n",
    ")\n",
    "fig.update_layout(height=300, margin={\"r\":0,\"t\":0,\"l\":0,\"b\":0})\n",
    "fig.show()"
   ]
  },
  {
   "cell_type": "code",
   "execution_count": 46,
   "metadata": {},
   "outputs": [
    {
     "ename": "TypeError",
     "evalue": "return arrays must be of ArrayType",
     "output_type": "error",
     "traceback": [
      "\u001b[1;31m---------------------------------------------------------------------------\u001b[0m",
      "\u001b[1;31mTypeError\u001b[0m                                 Traceback (most recent call last)",
      "Cell \u001b[1;32mIn[46], line 34\u001b[0m\n\u001b[0;32m     31\u001b[0m num_points \u001b[38;5;241m=\u001b[39m \u001b[38;5;241m100\u001b[39m\n\u001b[0;32m     33\u001b[0m \u001b[38;5;66;03m# Calcular los puntos intermedios\u001b[39;00m\n\u001b[1;32m---> 34\u001b[0m points \u001b[38;5;241m=\u001b[39m \u001b[43mintermediate_points\u001b[49m\u001b[43m(\u001b[49m\u001b[43mlat1\u001b[49m\u001b[43m,\u001b[49m\u001b[43m \u001b[49m\u001b[43mlon1\u001b[49m\u001b[43m,\u001b[49m\u001b[43m \u001b[49m\u001b[43mlat2\u001b[49m\u001b[43m,\u001b[49m\u001b[43m \u001b[49m\u001b[43mlon2\u001b[49m\u001b[43m,\u001b[49m\u001b[43m \u001b[49m\u001b[43mnum_points\u001b[49m\u001b[43m)\u001b[49m\n\u001b[0;32m     36\u001b[0m \u001b[38;5;66;03m# Graficar los puntos en un mapa como una línea continua\u001b[39;00m\n\u001b[0;32m     37\u001b[0m fig \u001b[38;5;241m=\u001b[39m px\u001b[38;5;241m.\u001b[39mline_mapbox(lat\u001b[38;5;241m=\u001b[39mpoints[\u001b[38;5;241m0\u001b[39m,:], lon\u001b[38;5;241m=\u001b[39mpoints[\u001b[38;5;241m1\u001b[39m,:], zoom\u001b[38;5;241m=\u001b[39m\u001b[38;5;241m1\u001b[39m)\n",
      "Cell \u001b[1;32mIn[46], line 17\u001b[0m, in \u001b[0;36mintermediate_points\u001b[1;34m(lat1, lon1, lat2, lon2, num_points)\u001b[0m\n\u001b[0;32m     15\u001b[0m \u001b[38;5;28;01mdef\u001b[39;00m \u001b[38;5;21mintermediate_points\u001b[39m(lat1, lon1, lat2, lon2, num_points):\n\u001b[0;32m     16\u001b[0m     \u001b[38;5;28;01mfor\u001b[39;00m contador \u001b[38;5;129;01min\u001b[39;00m \u001b[38;5;28mrange\u001b[39m (\u001b[38;5;241m3\u001b[39m):\n\u001b[1;32m---> 17\u001b[0m         lat_puntos1 \u001b[38;5;241m=\u001b[39m np\u001b[38;5;241m.\u001b[39mlinspace(lat1,lat2,num_points)\u001b[38;5;241m+\u001b[39m\u001b[43mnp\u001b[49m\u001b[38;5;241;43m.\u001b[39;49m\u001b[43mcos\u001b[49m\u001b[43m(\u001b[49m\u001b[38;5;241;43m0\u001b[39;49m\u001b[43m,\u001b[49m\u001b[38;5;241;43m90\u001b[39;49m\u001b[43m)\u001b[49m\n\u001b[0;32m     18\u001b[0m         lat_puntos2 \u001b[38;5;241m=\u001b[39m np\u001b[38;5;241m.\u001b[39mlinspace(lat1,lat2,num_points)\u001b[38;5;241m+\u001b[39mnp\u001b[38;5;241m.\u001b[39mcos(\u001b[38;5;241m0\u001b[39m,\u001b[38;5;241m180\u001b[39m)\n\u001b[0;32m     19\u001b[0m         lat_puntos3 \u001b[38;5;241m=\u001b[39m np\u001b[38;5;241m.\u001b[39mlinspace(lat1,lat2,num_points)\u001b[38;5;241m+\u001b[39mnp\u001b[38;5;241m.\u001b[39mcos(\u001b[38;5;241m90\u001b[39m,\u001b[38;5;241m180\u001b[39m)\n",
      "\u001b[1;31mTypeError\u001b[0m: return arrays must be of ArrayType"
     ]
    }
   ],
   "source": [
    "import numpy as np\n",
    "import pandas as pd\n",
    "import plotly.express as px\n",
    "from math import radians, sin, cos, sqrt, atan2\n",
    "\n",
    "def haversine(lat1, lon1, lat2, lon2):\n",
    "    R = 6371.0  # Radio de la Tierra en kilómetros\n",
    "    dlat = radians(lat2 - lat1)\n",
    "    dlon = radians(lon2 - lon1)\n",
    "    a = sin(dlat / 2) ** 2 + cos(radians(lat1)) * cos(radians(lat2)) * sin(dlon / 2) ** 2\n",
    "    c = 2 * atan2(sqrt(a), sqrt(1 - a))\n",
    "    distance = R * c\n",
    "    return distance\n",
    "\n",
    "def intermediate_points(lat1, lon1, lat2, lon2, num_points):\n",
    "    for contador in range (3):\n",
    "        lat_puntos1 = np.linspace(lat1,lat2,num_points)+np.cos(0,90)\n",
    "        lat_puntos2 = np.linspace(lat1,lat2,num_points)+np.cos(0,180)\n",
    "        lat_puntos3 = np.linspace(lat1,lat2,num_points)+np.cos(90,180)\n",
    "        lon_puntos1 = np.linspace(lon1,lon2,num_points)+np.sin(0,180)\n",
    "        lon_puntos2 = np.linspace(lon1,lon2,num_points)+np.sin(0,90)\n",
    "        lon_puntos3 = np.linspace(lon1,lon2,num_points)+np.sin(90,180)\n",
    "        contador = contador+1\n",
    "        return np.array([lat_puntos1,lat_puntos2,lat_puntos3, lon_puntos1, lon_puntos2, lon_puntos3])\n",
    "\n",
    "# Coordenadas de los puntos de origen y destino\n",
    "lat1, lon1 = 40.7128, -74.0060  # Nueva York\n",
    "lat2, lon2 = 51.0, 7.0    # Londres\n",
    "\n",
    "# Número de puntos intermedios\n",
    "num_points = 100\n",
    "\n",
    "# Calcular los puntos intermedios\n",
    "points = intermediate_points(lat1, lon1, lat2, lon2, num_points)\n",
    "\n",
    "# Graficar los puntos en un mapa como una línea continua\n",
    "fig = px.line_mapbox(lat=points[0,:], lon=points[1,:], zoom=1)\n",
    "fig.update_layout(mapbox_style=\"open-street-map\")\n",
    "fig.show()\n"
   ]
  },
  {
   "cell_type": "code",
   "execution_count": 25,
   "metadata": {},
   "outputs": [
    {
     "data": {
      "text/plain": [
       "-1.0"
      ]
     },
     "execution_count": 25,
     "metadata": {},
     "output_type": "execute_result"
    }
   ],
   "source": []
  }
 ],
 "metadata": {
  "kernelspec": {
   "display_name": "TS2024",
   "language": "python",
   "name": "python3"
  },
  "language_info": {
   "codemirror_mode": {
    "name": "ipython",
    "version": 3
   },
   "file_extension": ".py",
   "mimetype": "text/x-python",
   "name": "python",
   "nbconvert_exporter": "python",
   "pygments_lexer": "ipython3",
   "version": "3.10.13"
  }
 },
 "nbformat": 4,
 "nbformat_minor": 2
}
